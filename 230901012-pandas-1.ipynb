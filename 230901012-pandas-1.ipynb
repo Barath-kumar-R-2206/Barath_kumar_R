{
 "cells": [
  {
   "cell_type": "code",
   "execution_count": 6,
   "id": "cd179e21",
   "metadata": {},
   "outputs": [
    {
     "name": "stdout",
     "output_type": "stream",
     "text": [
      "Empty DataFrame\n",
      "Columns: []\n",
      "Index: []\n"
     ]
    }
   ],
   "source": [
    "import pandas as pd\n",
    "dp= pd.DataFrame()\n",
    "print (dp)\n"
   ]
  },
  {
   "cell_type": "code",
   "execution_count": 12,
   "id": "f3592219",
   "metadata": {},
   "outputs": [
    {
     "name": "stdout",
     "output_type": "stream",
     "text": [
      "       EMP  ID\n",
      "0   dabaji  80\n",
      "1   surath  90\n",
      "2   sirath  28\n",
      "3    yavan  57\n",
      "4  keehvya  49\n"
     ]
    }
   ],
   "source": [
    "import pandas as pd \n",
    "emp=pd.Series(['dabaji','surath','sirath','yavan','keehvya'])\n",
    "id=pd.Series([80,90,28,57,49])\n",
    "frame={'EMP':emp,'ID':id}\n",
    "result=pd.DataFrame(frame)\n",
    "print(result)"
   ]
  },
  {
   "cell_type": "code",
   "execution_count": 13,
   "id": "5f9ffdfc",
   "metadata": {},
   "outputs": [
    {
     "name": "stdout",
     "output_type": "stream",
     "text": [
      "\n",
      " Extraction one colunm :\n",
      "\n",
      "0     dabaji\n",
      "1     surath\n",
      "2     sirath\n",
      "3      yavan\n",
      "4    keehvya\n",
      "Name: EMP, dtype: object\n"
     ]
    }
   ],
   "source": [
    "print(\"\\n Extraction one colunm :\\n\")\n",
    "print(result['EMP'])"
   ]
  },
  {
   "cell_type": "code",
   "execution_count": 21,
   "id": "9f2b55c5",
   "metadata": {},
   "outputs": [
    {
     "name": "stdout",
     "output_type": "stream",
     "text": [
      "\n",
      " Adding new Colunms:\n",
      "\n",
      "       EMP  ID  Age\n",
      "0   dabaji  80   78\n",
      "1   surath  90   22\n",
      "2   sirath  28   47\n",
      "3    yavan  56   52\n",
      "4  keehvya  70   62\n"
     ]
    }
   ],
   "source": [
    "print(\"\\n Adding new Colunms:\\n\")\n",
    "\n",
    "result['Age']=pd.Series([78,22,47,52,62])\n",
    "print(result)"
   ]
  },
  {
   "cell_type": "code",
   "execution_count": 23,
   "id": "ba0de464",
   "metadata": {},
   "outputs": [
    {
     "name": "stdout",
     "output_type": "stream",
     "text": [
      "\n",
      " deleting new column:\n",
      "\n",
      "       EMP  ID\n",
      "0   dabaji  80\n",
      "1   surath  90\n",
      "2   sirath  28\n",
      "3    yavan  56\n",
      "4  keehvya  70\n",
      "\n",
      " Extracting the second row :\n",
      "\n",
      "EMP    surath\n",
      "ID         90\n",
      "Name: 1, dtype: object\n",
      "slice row :\n",
      "       EMP  ID\n",
      "1  surath  90\n",
      "2  sirath  28\n",
      "3   yavan  56\n"
     ]
    }
   ],
   "source": [
    "print(\"\\n deleting new column:\\n\")\n",
    "del result['Age']\n",
    "print(result)\n",
    "print(\"\\n Extracting the second row :\\n\")\n",
    "print(result.loc[1])\n",
    "print(\"slice row :\\n\",result[1:4])\n"
   ]
  },
  {
   "cell_type": "code",
   "execution_count": 25,
   "id": "da8de5a6",
   "metadata": {},
   "outputs": [
    {
     "name": "stdout",
     "output_type": "stream",
     "text": [
      "\n",
      " Addding new rows values:\n",
      "        EMP   ID\n",
      "0   dabaji   80\n",
      "1   surath   90\n",
      "2   sirath   28\n",
      "3    yavan   56\n",
      "4  keehvya   70\n",
      "0    vicky  100\n",
      "1    rasid  110\n"
     ]
    }
   ],
   "source": [
    "d2=pd.DataFrame([['vicky',100],['rasid',110]],columns=['EMP','ID'])\n",
    "print(\"\\n Addding new rows values:\\n\", pd.concat([result,d2]))\n"
   ]
  },
  {
   "cell_type": "code",
   "execution_count": 26,
   "id": "b9fde7ea",
   "metadata": {},
   "outputs": [
    {
     "name": "stdout",
     "output_type": "stream",
     "text": [
      "\n",
      " Deleting particular row:\n",
      "        EMP  ID\n",
      "0   dabaji  80\n",
      "1   surath  90\n",
      "3    yavan  56\n",
      "4  keehvya  70\n",
      "EMP    surath\n",
      "ID         90\n",
      "Name: 1, dtype: object\n"
     ]
    }
   ],
   "source": [
    "print(\"\\n Deleting particular row:\\n\",result.drop(2))\n",
    "print(result.loc[1])"
   ]
  },
  {
   "cell_type": "code",
   "execution_count": null,
   "id": "e05bb8f7",
   "metadata": {},
   "outputs": [],
   "source": []
  }
 ],
 "metadata": {
  "kernelspec": {
   "display_name": "Python 3 (ipykernel)",
   "language": "python",
   "name": "python3"
  },
  "language_info": {
   "codemirror_mode": {
    "name": "ipython",
    "version": 3
   },
   "file_extension": ".py",
   "mimetype": "text/x-python",
   "name": "python",
   "nbconvert_exporter": "python",
   "pygments_lexer": "ipython3",
   "version": "3.11.4"
  }
 },
 "nbformat": 4,
 "nbformat_minor": 5
}
