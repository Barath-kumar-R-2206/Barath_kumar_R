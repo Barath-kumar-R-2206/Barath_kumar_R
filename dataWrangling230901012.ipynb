{
 "cells": [
  {
   "cell_type": "code",
   "execution_count": 1,
   "id": "d9bc9990",
   "metadata": {},
   "outputs": [
    {
     "name": "stdout",
     "output_type": "stream",
     "text": [
      "  name  age\n",
      "0  sai   20\n",
      "1  sub   21\n",
      "2  poo   22\n"
     ]
    }
   ],
   "source": [
    "import pandas as pd \n",
    "d1={\"name\":[\"sai\",\"sub\",\"poo\"],\"age\":[20,21,22]}\n",
    "d2={\"qualified\":[True,True,False]}\n",
    "df1=pd.DataFrame(d1)\n",
    "print(df1)"
   ]
  },
  {
   "cell_type": "code",
   "execution_count": 2,
   "id": "b8c91b5a",
   "metadata": {},
   "outputs": [
    {
     "name": "stdout",
     "output_type": "stream",
     "text": [
      "{'qualified': [True, False, True]}\n",
      "  name  age  qualified\n",
      "0  sai   20       True\n",
      "1  sub   21      False\n",
      "2  poo   22       True\n"
     ]
    }
   ],
   "source": [
    "df2=pd.DataFrame(d2)\n",
    "print(d2)\n",
    "newdf=df1.join(df2)\n",
    "print(newdf)"
   ]
  },
  {
   "cell_type": "code",
   "execution_count": 7,
   "id": "c9e5f312",
   "metadata": {},
   "outputs": [
    {
     "name": "stdout",
     "output_type": "stream",
     "text": [
      "   name  age\n",
      "0   sai   20\n",
      "1   sri   21\n",
      "2  pavi   22\n",
      "      name  age\n",
      "0     yuvi   15\n",
      "1  rithika   21\n",
      "2   sanjay   17\n",
      "    name_x  age name_y\n",
      "0  rithika   21    sri\n"
     ]
    }
   ],
   "source": [
    "d1={ \"name\":[\"sai\",\"sri\",\"pavi\"],\"age\":[20,21,22]}\n",
    "d2={ \"name\":[\"yuvi\",\"rithika\",\"sanjay\"],\"age\":[15,21,17]}\n",
    "df1=pd.DataFrame(d1)\n",
    "df2=pd.DataFrame(d2)\n",
    "print(df1)\n",
    "print(df2)\n",
    "newdf=df2.merge(df1,on=\"age\")\n",
    "print(newdf)"
   ]
  },
  {
   "cell_type": "code",
   "execution_count": 11,
   "id": "906aa0f5",
   "metadata": {},
   "outputs": [
    {
     "name": "stdout",
     "output_type": "stream",
     "text": [
      "  team  points  assits  rebound\n",
      "0    A      90      12       56\n",
      "1    B      56      34       43\n",
      "2    C      78      23       55\n",
      "3    D      88      44       12\n",
      "   team variable  value\n",
      "0     A   points     90\n",
      "1     B   points     56\n",
      "2     C   points     78\n",
      "3     D   points     88\n",
      "4     A   assits     12\n",
      "5     B   assits     34\n",
      "6     C   assits     23\n",
      "7     D   assits     44\n",
      "8     A  rebound     56\n",
      "9     B  rebound     43\n",
      "10    C  rebound     55\n",
      "11    D  rebound     12\n"
     ]
    }
   ],
   "source": [
    "#reshape\n",
    "df=pd.DataFrame({'team':['A','B','C','D'],'points':[90,56,78,88],'assits':[12,34,23,44],'rebound':[56,43,55,12]})\n",
    "print(df)\n",
    "dp=pd.melt(df,id_vars='team',value_vars=['points','assits','rebound'])\n",
    "print(dp)"
   ]
  },
  {
   "cell_type": "code",
   "execution_count": null,
   "id": "97546274",
   "metadata": {},
   "outputs": [],
   "source": []
  }
 ],
 "metadata": {
  "kernelspec": {
   "display_name": "Python 3 (ipykernel)",
   "language": "python",
   "name": "python3"
  },
  "language_info": {
   "codemirror_mode": {
    "name": "ipython",
    "version": 3
   },
   "file_extension": ".py",
   "mimetype": "text/x-python",
   "name": "python",
   "nbconvert_exporter": "python",
   "pygments_lexer": "ipython3",
   "version": "3.11.3"
  }
 },
 "nbformat": 4,
 "nbformat_minor": 5
}
