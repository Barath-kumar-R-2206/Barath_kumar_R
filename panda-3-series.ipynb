{
 "cells": [
  {
   "cell_type": "code",
   "execution_count": 5,
   "id": "b0634e36",
   "metadata": {},
   "outputs": [
    {
     "name": "stdout",
     "output_type": "stream",
     "text": [
      "0    s\n",
      "1    a\n",
      "2    i\n",
      "3    s\n",
      "4    r\n",
      "5    i\n",
      "dtype: object\n"
     ]
    }
   ],
   "source": [
    "#panda series\n",
    "import pandas as pd\n",
    "import numpy as np\n",
    "a=np.array(['s','a','i','s','r','i'])\n",
    "b=pd.Series(a)\n",
    "print(b)"
   ]
  },
  {
   "cell_type": "code",
   "execution_count": 7,
   "id": "e41726fd",
   "metadata": {},
   "outputs": [
    {
     "name": "stdout",
     "output_type": "stream",
     "text": [
      "a    0\n",
      "b    1\n",
      "c    2\n",
      "dtype: int64\n"
     ]
    }
   ],
   "source": [
    "c={'a':0,'b':1,'c':2}\n",
    "e=pd.Series(c)\n",
    "print(e)"
   ]
  },
  {
   "cell_type": "code",
   "execution_count": 8,
   "id": "b0752481",
   "metadata": {},
   "outputs": [
    {
     "name": "stdout",
     "output_type": "stream",
     "text": [
      "0    4\n",
      "1    4\n",
      "2    4\n",
      "3    4\n",
      "dtype: int64\n"
     ]
    }
   ],
   "source": [
    "x=pd.Series(4,index=[0,1,2,3])\n",
    "print(x)"
   ]
  },
  {
   "cell_type": "code",
   "execution_count": 14,
   "id": "b8da1501",
   "metadata": {},
   "outputs": [
    {
     "name": "stdout",
     "output_type": "stream",
     "text": [
      "['s' 'a' 'i' 's' 'r' 'i']\n",
      "1\n",
      "6\n",
      "(6,)\n",
      "RangeIndex(start=0, stop=6, step=1)\n"
     ]
    }
   ],
   "source": [
    "a=pd.Series(['s','a','i','s','r','i'])\n",
    "print(a.values)\n",
    "print(a.ndim)\n",
    "print(a.size)\n",
    "print(a.shape)\n",
    "print(a.index)\n"
   ]
  },
  {
   "cell_type": "code",
   "execution_count": null,
   "id": "df212148",
   "metadata": {},
   "outputs": [],
   "source": []
  }
 ],
 "metadata": {
  "kernelspec": {
   "display_name": "Python 3 (ipykernel)",
   "language": "python",
   "name": "python3"
  },
  "language_info": {
   "codemirror_mode": {
    "name": "ipython",
    "version": 3
   },
   "file_extension": ".py",
   "mimetype": "text/x-python",
   "name": "python",
   "nbconvert_exporter": "python",
   "pygments_lexer": "ipython3",
   "version": "3.11.4"
  }
 },
 "nbformat": 4,
 "nbformat_minor": 5
}
