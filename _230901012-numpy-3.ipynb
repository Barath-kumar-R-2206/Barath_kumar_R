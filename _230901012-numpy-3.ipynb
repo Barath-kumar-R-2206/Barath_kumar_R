{
 "cells": [
  {
   "cell_type": "code",
   "execution_count": 1,
   "id": "8230a034",
   "metadata": {},
   "outputs": [
    {
     "name": "stdout",
     "output_type": "stream",
     "text": [
      "(array([1, 4], dtype=int64),)\n"
     ]
    }
   ],
   "source": [
    "import numpy as np\n",
    "arr=np.array([1,6,2,7,6,4])\n",
    "x=np.where(arr==6)\n",
    "print(x)"
   ]
  },
  {
   "cell_type": "code",
   "execution_count": 10,
   "id": "fadbbd66",
   "metadata": {},
   "outputs": [
    {
     "name": "stdout",
     "output_type": "stream",
     "text": [
      "4\n"
     ]
    }
   ],
   "source": [
    "b=np.array((0,1,2,2,7,8,9))\n",
    "x=np.searchsorted(b,3,side='left')\n",
    "print(x)"
   ]
  },
  {
   "cell_type": "code",
   "execution_count": 11,
   "id": "6609a19d",
   "metadata": {},
   "outputs": [
    {
     "name": "stdout",
     "output_type": "stream",
     "text": [
      "6\n"
     ]
    }
   ],
   "source": [
    "b=np.array((0,1,2,2,7,8,9))\n",
    "x=np.searchsorted(b,8,side='right')\n",
    "print(x)"
   ]
  },
  {
   "cell_type": "code",
   "execution_count": 12,
   "id": "8179bbb8",
   "metadata": {},
   "outputs": [
    {
     "name": "stdout",
     "output_type": "stream",
     "text": [
      "5\n"
     ]
    }
   ],
   "source": [
    "b=np.array((0,1,2,2,7,8,9))\n",
    "x=np.searchsorted(b,8,side='left')\n",
    "print(x)"
   ]
  },
  {
   "cell_type": "code",
   "execution_count": 15,
   "id": "a1e982c0",
   "metadata": {},
   "outputs": [
    {
     "name": "stdout",
     "output_type": "stream",
     "text": [
      "[2 4 5 6 7 9]\n",
      "[[4 7 9]\n",
      " [1 4 9]]\n"
     ]
    }
   ],
   "source": [
    "d=np.array([9,5,2,7,6,4])\n",
    "print(np.sort(d))\n",
    "e=np.array([[7,4,9],[9,1,4]])\n",
    "print(np.sort(e))"
   ]
  },
  {
   "cell_type": "code",
   "execution_count": 16,
   "id": "a2a9adae",
   "metadata": {},
   "outputs": [
    {
     "name": "stdout",
     "output_type": "stream",
     "text": [
      "[False, True, False, True]\n",
      "[78 88]\n"
     ]
    }
   ],
   "source": [
    "#boolean=indexing\n",
    "p=np.array([31,78,69,88])\n",
    "q=[False,True,False,True]\n",
    "u=p[q]\n",
    "print(q)\n",
    "print(u)"
   ]
  },
  {
   "cell_type": "code",
   "execution_count": 17,
   "id": "91217145",
   "metadata": {},
   "outputs": [
    {
     "name": "stdout",
     "output_type": "stream",
     "text": [
      "[ True False  True False]\n",
      "[31 69]\n"
     ]
    }
   ],
   "source": [
    "a=np.array([31,78,69,88])\n",
    "filter_a=a<70\n",
    "na=a[filter_a]\n",
    "print(filter_a)\n",
    "print(na)"
   ]
  },
  {
   "cell_type": "code",
   "execution_count": null,
   "id": "35551665",
   "metadata": {},
   "outputs": [],
   "source": []
  }
 ],
 "metadata": {
  "kernelspec": {
   "display_name": "Python 3 (ipykernel)",
   "language": "python",
   "name": "python3"
  },
  "language_info": {
   "codemirror_mode": {
    "name": "ipython",
    "version": 3
   },
   "file_extension": ".py",
   "mimetype": "text/x-python",
   "name": "python",
   "nbconvert_exporter": "python",
   "pygments_lexer": "ipython3",
   "version": "3.11.3"
  }
 },
 "nbformat": 4,
 "nbformat_minor": 5
}
