{
 "cells": [
  {
   "cell_type": "code",
   "execution_count": 1,
   "id": "5b073346",
   "metadata": {},
   "outputs": [
    {
     "name": "stdout",
     "output_type": "stream",
     "text": [
      "       A      B  C  D  E\n",
      "0    sai    one  2  4  3\n",
      "1   subu    two  0  1  0\n",
      "2   diya  three  0  1  3\n",
      "3   yuvi    one  0  4  3\n",
      "4  rithi  three  4  1  1\n",
      "5  sangi    two  2  0  4\n"
     ]
    }
   ],
   "source": [
    "import pandas as pd\n",
    "import numpy as np\n",
    "df=pd.DataFrame({'A':['sai','subu','diya','yuvi','rithi','sangi'],'B':['one','two','three','one','three','two'],\n",
    "                 'C':np.random.randint(5,size=6),\n",
    "                 'D':np.random.randint(5,size=6),\n",
    "                'E':np.random.randint(5,size=6),})\n",
    "print(df)"
   ]
  },
  {
   "cell_type": "code",
   "execution_count": 2,
   "id": "87dfe2ae",
   "metadata": {},
   "outputs": [
    {
     "name": "stdout",
     "output_type": "stream",
     "text": [
      "       A      B  C  D\n",
      "0    sai    one  4  1\n",
      "1   subu    two  0  4\n",
      "2   diya  three  4  0\n",
      "3   yuvi    one  2  3\n",
      "4  rithi  three  0  4\n",
      "5  sangi    two  2  2\n",
      "6    sai    one  3  3\n",
      "7    poo    two  3  2\n",
      "       A  C\n",
      "0   diya  4\n",
      "1    poo  3\n",
      "2  rithi  0\n",
      "3    sai  7\n",
      "4  sangi  2\n",
      "5   subu  0\n",
      "6   yuvi  2\n"
     ]
    }
   ],
   "source": [
    "import pandas as pd\n",
    "import numpy as np\n",
    "df=pd.DataFrame({'A':['sai','subu','diya','yuvi','rithi','sangi','sai','poo'],'B':['one','two','three','one','three','two','one','two'],\n",
    "                 'C':np.random.randint(5,size=8),\n",
    "                 'D':np.random.randint(5,size=8)})\n",
    "print(df)\n",
    "df1=df.groupby('A',as_index=False)['C'].sum()\n",
    "print(df1)"
   ]
  },
  {
   "cell_type": "code",
   "execution_count": 3,
   "id": "6f363e60",
   "metadata": {},
   "outputs": [
    {
     "name": "stdout",
     "output_type": "stream",
     "text": [
      "       A      B  C  D\n",
      "0    sai    one  1  1\n",
      "1   subu    two  4  4\n",
      "2   diya  three  4  3\n",
      "3   yuvi    one  1  2\n",
      "4  rithi  three  2  4\n",
      "5  sangi    two  2  3\n",
      "6    sai    one  1  2\n",
      "7    poo    two  2  2\n",
      "       A      B  C  D\n",
      "0   diya  three  4  3\n",
      "1    poo    two  2  2\n",
      "2  rithi  three  2  4\n",
      "3    sai    one  2  3\n",
      "4  sangi    two  2  3\n",
      "5   subu    two  4  4\n",
      "6   yuvi    one  1  2\n"
     ]
    },
    {
     "name": "stderr",
     "output_type": "stream",
     "text": [
      "/var/folders/mn/_1cjsyfs179_gkbqhtqnmf640000gp/T/ipykernel_1262/3290560981.py:7: FutureWarning: Indexing with multiple keys (implicitly converted to a tuple of keys) will be deprecated, use a list instead.\n",
      "  df1=df.groupby(['A','B'],as_index=False)['C','D'].sum()\n"
     ]
    }
   ],
   "source": [
    "import pandas as pd\n",
    "import numpy as np\n",
    "df=pd.DataFrame({'A':['sai','subu','diya','yuvi','rithi','sangi','sai','poo'],'B':['one','two','three','one','three','two','one','two'],\n",
    "                 'C':np.random.randint(5,size=8),\n",
    "                 'D':np.random.randint(5,size=8)})\n",
    "print(df)\n",
    "df1=df.groupby(['A','B'],as_index=False)['C','D'].sum()\n",
    "print(df1)"
   ]
  },
  {
   "cell_type": "code",
   "execution_count": 5,
   "id": "5cd46279",
   "metadata": {},
   "outputs": [
    {
     "name": "stdout",
     "output_type": "stream",
     "text": [
      "\n",
      " original DataFrame:\n",
      "   Category  Sales  Profit\n",
      "0        A    100      10\n",
      "1        B    200      15\n",
      "2        C    150      20\n",
      "3        A    150      25\n",
      "4        B    130      30\n",
      "5        C    200      15\n"
     ]
    }
   ],
   "source": [
    "import pandas as pd\n",
    "df=pd.DataFrame({'Category':['A','B','C','A','B','C'],'Sales':[100,200,150,150,130,200],'Profit':[10,15,20,25,30,15]})\n",
    "print(\"\\n original DataFrame:\\n\",df)"
   ]
  },
  {
   "cell_type": "code",
   "execution_count": 8,
   "id": "2114174b",
   "metadata": {},
   "outputs": [
    {
     "name": "stdout",
     "output_type": "stream",
     "text": [
      "         Sales        Profit    \n",
      "           sum   mean    sum max\n",
      "Category                        \n",
      "A          250  125.0     35  25\n",
      "B          330  165.0     45  30\n",
      "C          350  175.0     35  20\n"
     ]
    }
   ],
   "source": [
    "df_grouped=df.groupby('Category').agg({'Sales':['sum','mean'],'Profit':['sum','max']})\n",
    "print(df_grouped)"
   ]
  },
  {
   "cell_type": "code",
   "execution_count": null,
   "id": "be2b0200",
   "metadata": {},
   "outputs": [],
   "source": []
  },
  {
   "cell_type": "code",
   "execution_count": null,
   "id": "af57b4be",
   "metadata": {},
   "outputs": [],
   "source": [
    "    "
   ]
  }
 ],
 "metadata": {
  "kernelspec": {
   "display_name": "Python 3 (ipykernel)",
   "language": "python",
   "name": "python3"
  },
  "language_info": {
   "codemirror_mode": {
    "name": "ipython",
    "version": 3
   },
   "file_extension": ".py",
   "mimetype": "text/x-python",
   "name": "python",
   "nbconvert_exporter": "python",
   "pygments_lexer": "ipython3",
   "version": "3.11.4"
  }
 },
 "nbformat": 4,
 "nbformat_minor": 5
}
