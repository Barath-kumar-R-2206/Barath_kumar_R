{
 "cells": [
  {
   "cell_type": "code",
   "execution_count": 14,
   "id": "86415814",
   "metadata": {},
   "outputs": [
    {
     "name": "stdout",
     "output_type": "stream",
     "text": [
      "DataFrame.apply function:\n",
      "\n",
      "\n",
      " Original DataFrame:\n",
      "    S  R\n",
      "0  3  9\n",
      "1  3  9\n",
      "2  3  9\n",
      "3  3  9\n",
      "\n",
      " SquareROOT  of DataFrame:\n",
      "           S    R\n",
      "0  1.732051  3.0\n",
      "1  1.732051  3.0\n",
      "2  1.732051  3.0\n",
      "3  1.732051  3.0\n",
      "\n",
      " sum of each column \n",
      "  S    12\n",
      "R    36\n",
      "dtype: int64\n",
      "\n",
      " sum of each row \n",
      "  0    12\n",
      "1    12\n",
      "2    12\n",
      "3    12\n",
      "dtype: int64\n"
     ]
    }
   ],
   "source": [
    "import pandas as pd\n",
    "import numpy as np\n",
    "print(\"DataFrame.apply function:\\n\")\n",
    "info=pd.DataFrame([[3,9]]*4,columns=['S','R'])\n",
    "print(\"\\n Original DataFrame:\\n\",info)\n",
    "print(\"\\n SquareROOT  of DataFrame:\\n\",info.apply(np.sqrt))\n",
    "print(\"\\n sum of each column \\n \",info.apply(np.sum,axis=0))\n",
    "print(\"\\n sum of each row \\n \",info.apply(np.sum,axis=1))\n",
    "\n"
   ]
  },
  {
   "cell_type": "code",
   "execution_count": 15,
   "id": "b1c610ab",
   "metadata": {},
   "outputs": [
    {
     "name": "stdout",
     "output_type": "stream",
     "text": [
      "   x  y  z\n",
      "0  2  4  6\n",
      "1  1  3  5\n",
      "2  5  8  7\n",
      "     S  R\n",
      "min  3  9\n",
      "max  3  9\n"
     ]
    }
   ],
   "source": [
    "\n",
    "info1=pd.DataFrame([[2,4,6],[1,3,5],[5,8,7]],columns=['x','y','z'])\n",
    "print(info1)\n",
    "print(info.agg(['min','max']))"
   ]
  },
  {
   "cell_type": "code",
   "execution_count": 16,
   "id": "f75c58a1",
   "metadata": {},
   "outputs": [
    {
     "name": "stdout",
     "output_type": "stream",
     "text": [
      "   EMP  ID\n",
      "0  Sai  88\n",
      "1  poo  70\n"
     ]
    }
   ],
   "source": [
    "d2=pd.DataFrame([['Sai',88],['poo',70]],columns=['EMP','ID'])\n",
    "\n",
    "print(d2)"
   ]
  },
  {
   "cell_type": "code",
   "execution_count": 17,
   "id": "03e17853",
   "metadata": {},
   "outputs": [
    {
     "name": "stdout",
     "output_type": "stream",
     "text": [
      "   EMP  ID  Age\n",
      "0  Sai  88   20\n",
      "1  poo  70   18\n"
     ]
    }
   ],
   "source": [
    "#adding a new column\n",
    "d2['Age']=[20,18]\n",
    "print(d2)"
   ]
  },
  {
   "cell_type": "code",
   "execution_count": 18,
   "id": "afe93587",
   "metadata": {},
   "outputs": [
    {
     "name": "stdout",
     "output_type": "stream",
     "text": [
      "   EMP  ID  Age     Sex\n",
      "0  Sai  88   20    Male\n",
      "1  poo  70   18  Female\n"
     ]
    }
   ],
   "source": [
    "d=d2.assign(Sex=['Male','Female'])\n",
    "print(d)"
   ]
  },
  {
   "cell_type": "code",
   "execution_count": 19,
   "id": "88879984",
   "metadata": {},
   "outputs": [
    {
     "name": "stdout",
     "output_type": "stream",
     "text": [
      "       col3      col4\n",
      "3 -0.903871 -0.688619\n",
      "2  0.896529  2.738774\n",
      "0 -0.204729  0.381077\n",
      "4 -1.044053  1.150060\n",
      "1 -0.171364  0.302201\n"
     ]
    }
   ],
   "source": [
    "#sorting \n",
    "info=pd.DataFrame(np.random.randn(5,2),index=[3,2,0,4,1],columns=['col3','col4'])\n",
    "print(info)"
   ]
  },
  {
   "cell_type": "code",
   "execution_count": 21,
   "id": "a69af76f",
   "metadata": {},
   "outputs": [
    {
     "name": "stdout",
     "output_type": "stream",
     "text": [
      "       col3      col4\n",
      "0 -0.204729  0.381077\n",
      "1 -0.171364  0.302201\n",
      "2  0.896529  2.738774\n",
      "3 -0.903871 -0.688619\n",
      "4 -1.044053  1.150060\n"
     ]
    }
   ],
   "source": [
    "info2=info.sort_index()\n",
    "print(info2)"
   ]
  },
  {
   "cell_type": "code",
   "execution_count": 28,
   "id": "85edfb6a",
   "metadata": {},
   "outputs": [
    {
     "name": "stdout",
     "output_type": "stream",
     "text": [
      "       col3      col4\n",
      "4 -1.044053  1.150060\n",
      "3 -0.903871 -0.688619\n",
      "0 -0.204729  0.381077\n",
      "1 -0.171364  0.302201\n",
      "2  0.896529  2.738774\n"
     ]
    }
   ],
   "source": [
    "info3=info.sort_values(by='col3')\n",
    "print(info3)"
   ]
  },
  {
   "cell_type": "code",
   "execution_count": 31,
   "id": "369d51dd",
   "metadata": {},
   "outputs": [
    {
     "name": "stdout",
     "output_type": "stream",
     "text": [
      "   id           name_x sub_x   name_y sub_y\n",
      "0   1           barath  sub1    kumar  sub1\n",
      "1   2        narayanan  sub2  chandra  sub2\n",
      "2   3  ramaguptabalaji  sub3  murugaa  sub3\n"
     ]
    }
   ],
   "source": [
    "left=pd.DataFrame({'id':[1,2,3],'name':['barath','narayanan','ramaguptabalaji'],'sub':['sub1','sub2','sub3']})\n",
    "right=pd.DataFrame({'id':[1,2,3],'name':['kumar','chandra','murugaa'],'sub':['sub1','sub2','sub3']})\n",
    "print(pd.merge(left,right,on='id'))"
   ]
  },
  {
   "cell_type": "code",
   "execution_count": null,
   "id": "0ac58b26",
   "metadata": {},
   "outputs": [],
   "source": []
  }
 ],
 "metadata": {
  "kernelspec": {
   "display_name": "Python 3 (ipykernel)",
   "language": "python",
   "name": "python3"
  },
  "language_info": {
   "codemirror_mode": {
    "name": "ipython",
    "version": 3
   },
   "file_extension": ".py",
   "mimetype": "text/x-python",
   "name": "python",
   "nbconvert_exporter": "python",
   "pygments_lexer": "ipython3",
   "version": "3.11.4"
  }
 },
 "nbformat": 4,
 "nbformat_minor": 5
}
