{
 "cells": [
  {
   "cell_type": "code",
   "execution_count": 16,
   "id": "056df707",
   "metadata": {},
   "outputs": [
    {
     "name": "stdout",
     "output_type": "stream",
     "text": [
      "   Unnamed: 0.1  Unnamed: 0  S.no  Roll number     Name   Eng  Tamil  Science  \\\n",
      "0             0           0     1           10      Bala   80     65       69   \n",
      "1             1           1     2           11    Balaji   98     53       92   \n",
      "2             2           2     3           12    Barath   98     99       94   \n",
      "3             3           3     4           13   Bharath   84     99       94   \n",
      "4             4           4     5           14    Bhavan   84     99       94   \n",
      "5             5           5     6           15    Bhavya   90     61       70   \n",
      "6             6           6     7           16   Chandra   90     56       99   \n",
      "7             7           7     8           17  Chelliah   66     56       99   \n",
      "8             8           8     9           18   Deepika   91     67       94   \n",
      "9             9           9    10           19     Diana   83     67       94   \n",
      "\n",
      "   Social  Total  \n",
      "0      55    358  \n",
      "1      76    374  \n",
      "2      76    374  \n",
      "3      64    374  \n",
      "4      64    374  \n",
      "5      83    374  \n",
      "6      83    374  \n",
      "7      62    374  \n",
      "8      62    374  \n",
      "9      55    374  \n"
     ]
    }
   ],
   "source": [
    "import pandas as pd\n",
    "pd.set_option('display.max_column',10)\n",
    "df=pd.read_excel(\"marksheet EEE.xlsx\")\n",
    "print(df)"
   ]
  },
  {
   "cell_type": "code",
   "execution_count": 9,
   "id": "1d65415a",
   "metadata": {},
   "outputs": [
    {
     "name": "stdout",
     "output_type": "stream",
     "text": [
      "   Unnamed: 0  ...  Total\n",
      "0           0  ...  358.0\n",
      "1           1  ...  374.0\n",
      "2           2  ...  374.0\n",
      "3           3  ...  374.0\n",
      "4           4  ...  374.0\n",
      "5           5  ...  374.0\n",
      "6           6  ...  374.0\n",
      "7           7  ...  374.0\n",
      "8           8  ...  374.0\n",
      "9           9  ...  374.0\n",
      "\n",
      "[10 rows x 10 columns]\n"
     ]
    }
   ],
   "source": [
    "k=df.fillna(method='pad')\n",
    "print(k)\n",
    "\n"
   ]
  },
  {
   "cell_type": "code",
   "execution_count": 8,
   "id": "70a05fe6",
   "metadata": {},
   "outputs": [
    {
     "name": "stdout",
     "output_type": "stream",
     "text": [
      "\n",
      " updated line\n",
      "\n"
     ]
    }
   ],
   "source": [
    "print(\"\\n updated line\\n\")\n",
    "k.to_excel(\"marksheet EEE.xlsx\")"
   ]
  },
  {
   "cell_type": "code",
   "execution_count": 17,
   "id": "37f4cd08",
   "metadata": {},
   "outputs": [
    {
     "name": "stdout",
     "output_type": "stream",
     "text": [
      "   Unnamed: 0  S.no  Roll number     Name    Eng  Tamil  Social  Total\n",
      "0           0     1           10      Bala  80.0   65.0    55.0  358.0\n",
      "1           1     2           11    Balaji  98.0   53.0    76.0  374.0\n",
      "2           2     3           12    Barath  98.0   99.0    76.0  374.0\n",
      "3           3     4           13   Bharath  84.0   99.0    64.0  374.0\n",
      "4           4     5           14    Bhavan  84.0   99.0    64.0  374.0\n",
      "5           5     6           15    Bhavya  90.0   61.0    83.0  374.0\n",
      "6           6     7           16   Chandra  90.0   56.0    83.0  374.0\n",
      "7           7     8           17  Chelliah  66.0   56.0    62.0  374.0\n",
      "8           8     9           18   Deepika  91.0   67.0    62.0  374.0\n",
      "9           9    10           19     Diana  83.0   67.0    55.0  374.0\n"
     ]
    }
   ],
   "source": [
    "k.drop(['Science'],axis=1,inplace=True)\n",
    "print(k)\n",
    "k.to_excel(\"marksheet EEE.xlsx\")"
   ]
  },
  {
   "cell_type": "code",
   "execution_count": 20,
   "id": "b572ad28",
   "metadata": {},
   "outputs": [
    {
     "name": "stdout",
     "output_type": "stream",
     "text": [
      "\n",
      " Drop NaN row:\n",
      "\n",
      "   Unnamed: 0  S.no  Roll number     Name    Eng  Tamil  Maths  Science  \\\n",
      "0           0     1           10      Bala  80.0   65.0   89.0     69.0   \n",
      "1           1     2           11    Balaji  98.0   53.0   55.0     92.0   \n",
      "2           2     3           12    Barath   NaN   99.0    NaN     94.0   \n",
      "3           3     4           13   Bharath  84.0    NaN   89.0      NaN   \n",
      "4           4     5           14    Bhavan   NaN    NaN    NaN      NaN   \n",
      "5           5     6           15    Bhavya  90.0   61.0   56.0     70.0   \n",
      "6           6     7           16   Chandra   NaN   56.0    NaN     99.0   \n",
      "7           7     8           17  Chelliah  66.0    NaN   77.0      NaN   \n",
      "8           8     9           18   Deepika  91.0   67.0    NaN     94.0   \n",
      "9           9    10           19     Diana  83.0    NaN   59.0      NaN   \n",
      "\n",
      "   Social  Total  \n",
      "0    55.0  358.0  \n",
      "1    76.0  374.0  \n",
      "2     NaN    NaN  \n",
      "3    64.0    NaN  \n",
      "4     NaN    NaN  \n",
      "5    83.0    NaN  \n",
      "6     NaN    NaN  \n",
      "7    62.0    NaN  \n",
      "8     NaN    NaN  \n",
      "9    55.0    NaN  \n",
      "   Unnamed: 0  S.no  Roll number   Name    Eng  Tamil  Maths  Science  Social  \\\n",
      "0           0     1           10    Bala  80.0   65.0   89.0     69.0    55.0   \n",
      "1           1     2           11  Balaji  98.0   53.0   55.0     92.0    76.0   \n",
      "\n",
      "   Total  \n",
      "0  358.0  \n",
      "1  374.0  \n"
     ]
    }
   ],
   "source": [
    "print(\"\\n Drop NaN row:\\n\")\n",
    "df=pd.read_excel(\"marksheet EEE1.xlsx\")\n",
    "print(df)\n",
    "x=df.dropna()\n",
    "print(x)\n",
    "x.to_excel(\"marksheet EEE1.xlsx\")"
   ]
  },
  {
   "cell_type": "code",
   "execution_count": 21,
   "id": "024a58bb",
   "metadata": {},
   "outputs": [
    {
     "name": "stdout",
     "output_type": "stream",
     "text": [
      "\n",
      " Replace values:\n",
      "\n",
      "   Unnamed: 0.1  Unnamed: 0  S.no  Roll number     Name   Eng  Tamil  Social  \\\n",
      "0             0           0     1           10      Bala   80     65      55   \n",
      "1             1           1     2           11    Balaji   98     53      76   \n",
      "2             2           2     3           12    Barath   98     99      76   \n",
      "3             3           3     4           13   Bharath   84     99      64   \n",
      "4             4           4     5           14    Bhavan   84     99      64   \n",
      "5             5           5     6           15    Bhavya   90     61      83   \n",
      "6             6           6     7           16   Chandra   90     56      83   \n",
      "7             7           7     8           17  Chelliah   66     56      62   \n",
      "8             8           8     9           18   Deepika   91     67      62   \n",
      "9             9           9    10           19     Diana   83     67      55   \n",
      "\n",
      "   Total  \n",
      "0    358  \n",
      "1    374  \n",
      "2    374  \n",
      "3    374  \n",
      "4    374  \n",
      "5    374  \n",
      "6    374  \n",
      "7    374  \n",
      "8    374  \n",
      "9    374  \n",
      "   Unnamed: 0.1  Unnamed: 0  S.no  Roll number     Name   Eng  Tamil  Social  \\\n",
      "0             0           0     1           10      Bala   80     65      55   \n",
      "1             1           1     2           11    Balaji   98     53     100   \n",
      "2             2           2     3           12    Barath   98     99     100   \n",
      "3             3           3     4           13   Bharath   84     99      64   \n",
      "4             4           4     5           14    Bhavan   84     99      64   \n",
      "5             5           5     6           15    Bhavya   90     61      83   \n",
      "6             6           6     7           16   Chandra   90     56      83   \n",
      "7             7           7     8           17  Chelliah   66     56      62   \n",
      "8             8           8     9           18   Deepika   91     67      62   \n",
      "9             9           9    10           19     Diana   83     67      55   \n",
      "\n",
      "   Total  \n",
      "0    358  \n",
      "1    374  \n",
      "2    374  \n",
      "3    374  \n",
      "4    374  \n",
      "5    374  \n",
      "6    374  \n",
      "7    374  \n",
      "8    374  \n",
      "9    374  \n"
     ]
    }
   ],
   "source": [
    "print(\"\\n Replace values:\\n\")\n",
    "n=pd.read_excel(\"marksheet EEE.xlsx\")\n",
    "print(n)\n",
    "y=n.replace({76:100})\n",
    "print(y)\n",
    "y.to_excel(\"marksheet EEE.xlsx\")"
   ]
  },
  {
   "cell_type": "code",
   "execution_count": 24,
   "id": "5655e453",
   "metadata": {},
   "outputs": [
    {
     "name": "stdout",
     "output_type": "stream",
     "text": [
      "   Unnamed: 0.2  Unnamed: 0.1  Unnamed: 0  S.no  Roll number     Name   Eng  \\\n",
      "0             0             0           0     1           10      Bala   80   \n",
      "1             1             1           1     2           11    Balaji   98   \n",
      "2             2             2           2     3           12    Barath   98   \n",
      "3             3             3           3     4           13   Bharath   84   \n",
      "4             4             4           4     5           14    Bhavan   84   \n",
      "5             5             5           5     6           15    Bhavya   90   \n",
      "6             6             6           6     7           16   Chandra   90   \n",
      "7             7             7           7     8           17  Chelliah   66   \n",
      "8             8             8           8     9           18   Deepika   91   \n",
      "9             9             9           9    10           19     Diana   83   \n",
      "\n",
      "   Tamil  Social  Total  \n",
      "0     65      55    358  \n",
      "1     53     100    374  \n",
      "2     99     100    374  \n",
      "3     99      64    374  \n",
      "4     99      64    374  \n",
      "5     61      83    374  \n",
      "6     56      83    374  \n",
      "7     56      62    374  \n",
      "8     67      62    374  \n",
      "9     67      55    374  \n",
      "\n",
      " Extract using isin() function:\n",
      "\n",
      "   Unnamed: 0.2  Unnamed: 0.1  Unnamed: 0  S.no  Roll number   Name   Eng  \\\n",
      "1             1             1           1     2           11  Balaji   98   \n",
      "2             2             2           2     3           12  Barath   98   \n",
      "\n",
      "   Tamil  Social  Total  \n",
      "1     53     100    374  \n",
      "2     99     100    374  \n"
     ]
    }
   ],
   "source": [
    "df=pd.read_excel(\"marksheet EEE.xlsx\")\n",
    "print(df)\n",
    "print(\"\\n Extract using isin() function:\\n\")\n",
    "new=df['Social'].isin([100])\n",
    "print(df[new])"
   ]
  },
  {
   "cell_type": "code",
   "execution_count": null,
   "id": "d46fbc17",
   "metadata": {},
   "outputs": [],
   "source": []
  }
 ],
 "metadata": {
  "kernelspec": {
   "display_name": "Python 3 (ipykernel)",
   "language": "python",
   "name": "python3"
  },
  "language_info": {
   "codemirror_mode": {
    "name": "ipython",
    "version": 3
   },
   "file_extension": ".py",
   "mimetype": "text/x-python",
   "name": "python",
   "nbconvert_exporter": "python",
   "pygments_lexer": "ipython3",
   "version": "3.11.4"
  }
 },
 "nbformat": 4,
 "nbformat_minor": 5
}
