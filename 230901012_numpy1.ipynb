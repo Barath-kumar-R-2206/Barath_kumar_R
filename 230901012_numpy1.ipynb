{
 "cells": [
  {
   "cell_type": "code",
   "execution_count": 1,
   "id": "a5cae22f",
   "metadata": {},
   "outputs": [
    {
     "name": "stdout",
     "output_type": "stream",
     "text": [
      "one dimensional array: [1 2 3 4 5]\n"
     ]
    }
   ],
   "source": [
    "import numpy as np\n",
    "a=np.array([1,2,3,4,5])\n",
    "print(\"one dimensional array:\",a)"
   ]
  },
  {
   "cell_type": "code",
   "execution_count": 2,
   "id": "a7e366f2",
   "metadata": {},
   "outputs": [
    {
     "name": "stdout",
     "output_type": "stream",
     "text": [
      "two dimensional array: [[1 2 3 4 5]\n",
      " [2 3 4 5 6]]\n"
     ]
    }
   ],
   "source": [
    "import numpy as np\n",
    "a=np.array([[1,2,3,4,5],[2,3,4,5,6]])\n",
    "print(\"two dimensional array:\",a)    "
   ]
  },
  {
   "cell_type": "code",
   "execution_count": 3,
   "id": "29176a53",
   "metadata": {},
   "outputs": [
    {
     "name": "stdout",
     "output_type": "stream",
     "text": [
      "\n",
      " array with zeros:\n",
      " [[0. 0. 0. 0. 0. 0. 0.]\n",
      " [0. 0. 0. 0. 0. 0. 0.]]\n"
     ]
    }
   ],
   "source": [
    "import numpy as np\n",
    "b=np.zeros((2,7))\n",
    "print(\"\\n array with zeros:\\n\",b)"
   ]
  },
  {
   "cell_type": "code",
   "execution_count": 6,
   "id": "7d9c6b86",
   "metadata": {},
   "outputs": [
    {
     "name": "stdout",
     "output_type": "stream",
     "text": [
      "\n",
      " array with randow values:\n",
      " [[0.66903327 0.78577716]\n",
      " [0.3143498  0.2805661 ]\n",
      " [0.65768715 0.05779345]\n",
      " [0.00567171 0.07081529]\n",
      " [0.4746996  0.68361803]\n",
      " [0.5941167  0.79757476]\n",
      " [0.63743106 0.58576214]]\n"
     ]
    }
   ],
   "source": [
    "import numpy as np\n",
    "d=np.random.random((7,2))\n",
    "print(\"\\n array with randow values:\\n\",d)"
   ]
  },
  {
   "cell_type": "code",
   "execution_count": 7,
   "id": "63286112",
   "metadata": {},
   "outputs": [
    {
     "name": "stdout",
     "output_type": "stream",
     "text": [
      "\n",
      " arranged values\n",
      " [ 0  5 10 15 20 25 30 35 40 45]\n"
     ]
    }
   ],
   "source": [
    "import numpy as np\n",
    "e=np.arange(0,50,5)\n",
    "print(\"\\n arranged values\\n\",e)"
   ]
  },
  {
   "cell_type": "code",
   "execution_count": 9,
   "id": "dae3ddae",
   "metadata": {},
   "outputs": [
    {
     "name": "stdout",
     "output_type": "stream",
     "text": [
      "\n",
      " original :\n",
      " [[1 2 3]\n",
      " [4 5 6]\n",
      " [7 8 9]\n",
      " [3 6 9]\n",
      " [7 6 5]]\n",
      "\n",
      " reshaped :\n",
      " [[1 2 3 4 5]\n",
      " [6 7 8 9 3]\n",
      " [6 9 7 6 5]]\n"
     ]
    }
   ],
   "source": [
    "import numpy as np\n",
    "d=np.array([[1,2,3],[4,5,6],[7,8,9],[3,6,9],[7,6,5]])\n",
    "b=d.reshape(3,5)\n",
    "print('\\n original :\\n',d)\n",
    "print(\"\\n reshaped :\\n\",b)"
   ]
  },
  {
   "cell_type": "code",
   "execution_count": 10,
   "id": "5f215f6c",
   "metadata": {},
   "outputs": [
    {
     "name": "stdout",
     "output_type": "stream",
     "text": [
      "\n",
      "Created array of 3X5 :\n",
      " [[1 2 3]\n",
      " [4 5 6]\n",
      " [7 8 9]\n",
      " [7 2 1]\n",
      " [1 8 4]]\n"
     ]
    }
   ],
   "source": [
    "import numpy as np\n",
    "a=np.array([[1,2,3],[4,5,6],[7,8,9],[7,2,1],[1,8,4]])\n",
    "print(\"\\nCreated array of 3X5 :\\n\",a)"
   ]
  },
  {
   "cell_type": "code",
   "execution_count": 11,
   "id": "17c72e4b",
   "metadata": {},
   "outputs": [
    {
     "name": "stdout",
     "output_type": "stream",
     "text": [
      "\n",
      "array with 0s:\n",
      " [[0. 0. 0.]\n",
      " [0. 0. 0.]\n",
      " [0. 0. 0.]\n",
      " [0. 0. 0.]\n",
      " [0. 0. 0.]]\n"
     ]
    }
   ],
   "source": [
    "import numpy as np\n",
    "b=np.zeros((5,3))\n",
    "print(\"\\narray with 0s:\\n\",b)"
   ]
  },
  {
   "cell_type": "code",
   "execution_count": 12,
   "id": "5b272ad6",
   "metadata": {},
   "outputs": [
    {
     "name": "stdout",
     "output_type": "stream",
     "text": [
      "\n",
      " Random numbers :\n",
      " [[0.74550281 0.58575229 0.97602268]\n",
      " [0.27657675 0.89881724 0.99677835]\n",
      " [0.67943086 0.82021437 0.24785542]\n",
      " [0.97859342 0.46134489 0.95360831]\n",
      " [0.43718222 0.20154383 0.77280516]]\n"
     ]
    }
   ],
   "source": [
    "import numpy as np\n",
    "c=np.random.random((5,3))\n",
    "print(\"\\n Random numbers :\\n\",c)"
   ]
  },
  {
   "cell_type": "code",
   "execution_count": 13,
   "id": "2bafb1bc",
   "metadata": {},
   "outputs": [
    {
     "name": "stdout",
     "output_type": "stream",
     "text": [
      "\n",
      "step value\n",
      " [ 0  5 10 15]\n"
     ]
    }
   ],
   "source": [
    "import numpy as np\n",
    "d=np.arange(0,20,5)\n",
    "print(\"\\nstep value\\n\",d)"
   ]
  },
  {
   "cell_type": "code",
   "execution_count": 3,
   "id": "e4b6525f",
   "metadata": {},
   "outputs": [
    {
     "name": "stdout",
     "output_type": "stream",
     "text": [
      "\n",
      "reshaped to 3x5\n",
      " [[1 2 3 4 5]\n",
      " [6 7 8 9 7]\n",
      " [2 1 1 8 4]]\n"
     ]
    }
   ],
   "source": [
    "import numpy as np\n",
    "a=np.array([[1,2,3],[4,5,6],[7,8,9],[7,2,1],[1,8,4]])\n",
    "b=a.reshape(3,5)\n",
    "print(\"\\nreshaped to 3x5\\n\",b)"
   ]
  },
  {
   "cell_type": "code",
   "execution_count": 15,
   "id": "f520d335",
   "metadata": {},
   "outputs": [
    {
     "name": "stdout",
     "output_type": "stream",
     "text": [
      "Flattened array:\n",
      " [1 2 3 4 5 6 7 8 9 7 2 1 1 8 4]\n"
     ]
    }
   ],
   "source": [
    "flat=a.flatten()\n",
    "print(\"Flattened array:\\n\",flat)"
   ]
  },
  {
   "cell_type": "code",
   "execution_count": 16,
   "id": "e7fe69a7",
   "metadata": {},
   "outputs": [
    {
     "name": "stdout",
     "output_type": "stream",
     "text": [
      "\n",
      " No of dimensions of array:\n",
      " 2\n"
     ]
    }
   ],
   "source": [
    "print(\"\\n No of dimensions of array:\\n\",a.ndim)"
   ]
  },
  {
   "cell_type": "code",
   "execution_count": 4,
   "id": "b9d23686",
   "metadata": {},
   "outputs": [
    {
     "name": "stdout",
     "output_type": "stream",
     "text": [
      "\n",
      " Shape of the array: \n",
      " (5, 3)\n"
     ]
    }
   ],
   "source": [
    "print(\"\\n Shape of the array: \\n\",a.shape)"
   ]
  },
  {
   "cell_type": "code",
   "execution_count": 5,
   "id": "5a872428",
   "metadata": {},
   "outputs": [
    {
     "name": "stdout",
     "output_type": "stream",
     "text": [
      "\n",
      " Arrray element type \n",
      " int32\n"
     ]
    }
   ],
   "source": [
    "print(\"\\n Arrray element type \\n\",a.dtype)"
   ]
  },
  {
   "cell_type": "code",
   "execution_count": 8,
   "id": "af4cb460",
   "metadata": {},
   "outputs": [
    {
     "name": "stdout",
     "output_type": "stream",
     "text": [
      "\n",
      " Covert array element: \n",
      " [[1. 2. 3.]\n",
      " [4. 5. 6.]\n",
      " [7. 8. 9.]\n",
      " [7. 2. 1.]\n",
      " [1. 8. 4.]]\n",
      "\n",
      " converted array type: \n",
      " float32\n"
     ]
    }
   ],
   "source": [
    "newtype=a.astype('f')\n",
    "print(\"\\n Covert array element: \\n\",newtype)\n",
    "print(\"\\n converted array type: \\n\",newtype.dtype)"
   ]
  },
  {
   "cell_type": "code",
   "execution_count": 11,
   "id": "38f1b953",
   "metadata": {},
   "outputs": [
    {
     "name": "stdout",
     "output_type": "stream",
     "text": [
      "\n",
      " size of array:\n",
      " 15\n"
     ]
    }
   ],
   "source": [
    "size=len(a)\n",
    "print(\"\\n size of array:\\n\",a.size)"
   ]
  },
  {
   "cell_type": "code",
   "execution_count": null,
   "id": "547c92a7",
   "metadata": {},
   "outputs": [],
   "source": []
  }
 ],
 "metadata": {
  "kernelspec": {
   "display_name": "Python 3 (ipykernel)",
   "language": "python",
   "name": "python3"
  },
  "language_info": {
   "codemirror_mode": {
    "name": "ipython",
    "version": 3
   },
   "file_extension": ".py",
   "mimetype": "text/x-python",
   "name": "python",
   "nbconvert_exporter": "python",
   "pygments_lexer": "ipython3",
   "version": "3.11.3"
  }
 },
 "nbformat": 4,
 "nbformat_minor": 5
}
